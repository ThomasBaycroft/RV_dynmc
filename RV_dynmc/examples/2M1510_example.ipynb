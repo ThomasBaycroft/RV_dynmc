{
 "cells": [
  {
   "cell_type": "code",
   "execution_count": 7,
   "id": "00017a70-ebfc-49be-b91f-32054f196b90",
   "metadata": {},
   "outputs": [],
   "source": [
    "import numpy as np\n",
    "import pandas as pd\n",
    "import matplotlib.pyplot as plt\n",
    "import RV_dynmc.RV_dynmc as rvd\n",
    "import astropy.constants as cst\n",
    "\n",
    "Msun = cst.M_sun.value\n",
    "Me = cst.M_earth.value"
   ]
  },
  {
   "cell_type": "code",
   "execution_count": 4,
   "id": "71f10555-e41e-4e85-943b-da9552c7c2ba",
   "metadata": {},
   "outputs": [],
   "source": [
    "names = ['M0','M1','M2','P1','P2','e1','e2','w1','w2','W1','W2','phi1','phi2','inc1','inc2','vsys1_UVES','vsys2_UVES','jit1_UVES','jit2_UVES']\n",
    "dists = ['Uniform','Uniform','LogUniform','Gaussian','LogUniform','Gaussian','Uniform','Gaussian','Gaussian','Gaussian','Uniform','Uniform','Uniform','Gaussian','Uniform','Gaussian','Gaussian','LogUniform','LogUniform']\n",
    "As = [0.033,0.033,1*Me/Msun,  20.907,60,0.36,0   ,4.9,0   ,0   ,0      ,0      ,0      ,88.5*np.pi/180,-np.pi,-11830,-11880,0.1,0.1]\n",
    "Bs = [0.005,0.005,10000*Me/Msun,0.005,10000,0.01,0.01,0.1,0.01,0.01,2*np.pi,2*np.pi,2*np.pi,0.1*np.pi/180 ,np.pi,100   ,100   ,40,40]\n",
    "\n",
    "mus = [0.033,0.033,1000*Me/Msun  ,20.907,1000,0.36,0.001 ,4.9,0   ,0   ,3.1,5.58,3.1,88.5*np.pi/180,0,-11830,-11880,10,10]\n",
    "sigmas = [0.001,0.001,300*Me/Msun,0.001,300.  ,0.01,0.0001,0.1,0.01,0.01,1.4,0.01,0.4,0.1*np.pi/180 ,1,10   ,10   ,1,1]"
   ]
  },
  {
   "cell_type": "code",
   "execution_count": 5,
   "id": "f420e0cc-38f3-4651-bfe3-d8fc3caffae8",
   "metadata": {},
   "outputs": [],
   "source": [
    "model = rvd.RV_dynmc(n_orbits=2,n_lines=2,insts=['UVES'],chains=50,steps=80000)"
   ]
  },
  {
   "cell_type": "code",
   "execution_count": 8,
   "id": "5525e39e-b79c-42ba-8c80-747531434f16",
   "metadata": {},
   "outputs": [],
   "source": [
    "model.define_priors(names,dists,As,Bs)\n",
    "data = pd.read_csv('2M1510_rvs.rdb',sep='\\t',header=0,skiprows=[1])\n",
    "model.add_rv_data(['UVES'],[data],['kms'])\n",
    "model.x0_from_values(mus,sigmas)"
   ]
  },
  {
   "cell_type": "code",
   "execution_count": null,
   "id": "15015933-9814-4f6d-bec1-6dcb4caaac7c",
   "metadata": {},
   "outputs": [],
   "source": [
    "model.run() #may take a few days"
   ]
  },
  {
   "cell_type": "code",
   "execution_count": null,
   "id": "111deb6c-0f34-4681-84bd-8e5a0503532a",
   "metadata": {},
   "outputs": [],
   "source": [
    "sam = model.sample_analysis"
   ]
  },
  {
   "cell_type": "code",
   "execution_count": null,
   "id": "0f2c2bec-b859-463b-958c-b58802655394",
   "metadata": {},
   "outputs": [],
   "source": [
    "sam.discard = 30000 #can edit these\n",
    "sam.thin = 100 #can edit these"
   ]
  },
  {
   "cell_type": "code",
   "execution_count": null,
   "id": "3e10988f-7701-469d-a760-71af0db8115c",
   "metadata": {},
   "outputs": [],
   "source": [
    "samp = sam.random_subsample(600)\n",
    "sims = sam.sims_subsample(samp)"
   ]
  },
  {
   "cell_type": "code",
   "execution_count": null,
   "id": "31af1167-2982-4432-b128-1bc16ead778c",
   "metadata": {},
   "outputs": [],
   "source": [
    "fig,ax = plt.subplots(figsize=[8,8],tight_layout=True)\n",
    "ax.set(xlim=[-1,1],ylim=[-1,1])\n",
    "Omegas = [0,0,0,0,0,0,0,0,0,0,0,0,0,0,0,0,0,0,0,0,0,0]\n",
    "inclins = [0., 0.33069396,0.7, 0.99208189, 1.32277585, 1.65346982, 1.98416378, 2.31485774, 2.64555171, 2.97624567, 3.4376336, 3.7076336, 3.96832756, 4.29902153, 4.62971549,4.96040945, 5.29110342,5.5, 5.62179738, 5.75249134, 6.11318531]\n",
    "inclins2 = [0., 0.33069396, 0.99208189, 1.32277585, 1.65346982, 1.98416378, 2.18485774, 2.64555171, 2.97624567, 3.86832756, 4.29902153, 4.62971549,4.96040945, 5.29110342, 5.52179738, 5.75249134, 6.11318531]\n",
    "c2 = 'lightsalmon'\n",
    "c1 = 'firebrick'\n",
    "colours = [c1,c2,'mediumblue']\n",
    "colours1 = [c1,c1,c2,c2,c2,c2,c2,c2,c1,c1,c1,c1,c2,c2,c2,c2,c2,c2,c1,c1,c1]\n",
    "colours2 = [c2,c2,c1,c1,c1,c1,c2,c2,c2,c2,c1,c1,c1,c1,c2,c2,c2]\n",
    "for j,inc2 in enumerate(inclins):\n",
    "    M0 = 0.033\n",
    "    Ms,Ps,es,ws,Ws,fs,incs = [0.033,0],[20,110],[0.36,0.01],[4.9,0],[0,Omegas[j]],[0,0],[1.55,inc2]\n",
    "    sim = rebound.Simulation()\n",
    "    sim.units = ('days', 'AU', 'Msun')\n",
    "\n",
    "    sim.add(m=M0)\n",
    "    for i,m in enumerate(Ms): \n",
    "        sim.add(m=m,P=Ps[i],e=es[i],omega=ws[i],Omega=Ws[i],M=fs[i],inc=incs[i])\n",
    "\n",
    "    sim.move_to_com()\n",
    "\n",
    "    icw = []\n",
    "    isw = []\n",
    "    icw2 = []\n",
    "    isw2 = []\n",
    "    times = np.arange(0,18000,10)\n",
    "    for t in times:\n",
    "        sim.integrate(t)\n",
    "        ip = sim.particles[2].inc\n",
    "        ib = sim.particles[1].inc\n",
    "        Wp = sim.particles[2].Omega\n",
    "        Wb = sim.particles[1].Omega\n",
    "        wp = sim.particles[2].omega\n",
    "        wb = sim.particles[1].omega\n",
    "\n",
    "        x = sim.particles[2].x\n",
    "        y = sim.particles[2].y\n",
    "        z = sim.particles[2].z\n",
    "        dx = sim.particles[2].vx\n",
    "        dy = sim.particles[2].vy\n",
    "        dz = sim.particles[2].vz\n",
    "\n",
    "        Tinv = fcs.frame_trans_inv(Wb,ib,wb)\n",
    "        r = np.array([x,y,z])\n",
    "        v = np.array([dx,dy,dz])\n",
    "        R = np.matmul(Tinv,r)\n",
    "        V = np.matmul(Tinv,v)\n",
    "        X,Y,Z = R[0],R[1],R[2]\n",
    "        dX,dY,dZ = V[0],V[1],V[2]\n",
    "\n",
    "        I = I_xyz(X,Y,Z,dX,dY,dZ)\n",
    "        W = W_xyz(X,Y,Z,dX,dY,dZ)\n",
    "\n",
    "        icw2.append((ip)*np.cos(Wp-Wb-wb)/np.pi)\n",
    "        isw2.append((ip)*np.sin(Wp-Wb-wb)/np.pi)\n",
    "        icw.append(I*np.cos(W)/np.pi)\n",
    "        isw.append(I*np.sin(W)/np.pi)\n",
    "\n",
    "    ax.plot(icw,isw,c=colours1[j],alpha=1)\n",
    "    ax.set(xlabel=r'I$_{\\rm p}~\\cos(\\Omega_{\\rm p}$)',ylabel=r'I$_{\\rm p}~\\sin(\\Omega_{\\rm p}$)')\n",
    "\n",
    "for i,sim in tqdm(enumerate(sims)):\n",
    "    if True==True:\n",
    "        icw = []\n",
    "        isw = []\n",
    "        times = np.arange(0,20000,100)\n",
    "        for t in times:\n",
    "            sim.integrate(t)\n",
    "            ip = sim.particles[2].inc\n",
    "            ib = sim.particles[1].inc\n",
    "            Wp = sim.particles[2].Omega\n",
    "            Wb = sim.particles[1].Omega\n",
    "            wp = sim.particles[2].omega\n",
    "            wb = sim.particles[1].omega\n",
    "            inc = imut(ib,ip,Wb,Wp)\n",
    "\n",
    "            x = sim.particles[2].x\n",
    "            y = sim.particles[2].y\n",
    "            z = sim.particles[2].z\n",
    "            dx = sim.particles[2].vx\n",
    "            dy = sim.particles[2].vy\n",
    "            dz = sim.particles[2].vz\n",
    "    \n",
    "            Tinv = fcs.frame_trans_inv(Wb,ib,wb)\n",
    "            r = np.array([x,y,z])\n",
    "            v = np.array([dx,dy,dz])\n",
    "            R = np.matmul(Tinv,r)\n",
    "            V = np.matmul(Tinv,v)\n",
    "            X,Y,Z = R[0],R[1],R[2]\n",
    "            dX,dY,dZ = V[0],V[1],V[2]\n",
    "    \n",
    "            I = I_xyz(X,Y,Z,dX,dY,dZ)\n",
    "            W = W_xyz(X,Y,Z,dX,dY,dZ)\n",
    "\n",
    "            \n",
    "            icw.append((I)*np.cos(W)/np.pi)\n",
    "            isw.append((I)*np.sin(W)/np.pi)\n",
    "\n",
    "        ax.plot(icw,isw,c=colours[2],alpha=0.05,zorder=5)  "
   ]
  },
  {
   "cell_type": "code",
   "execution_count": null,
   "id": "8550c7f8-77ce-4e24-a42b-49036e111569",
   "metadata": {},
   "outputs": [],
   "source": []
  }
 ],
 "metadata": {
  "kernelspec": {
   "display_name": "Python 3 (ipykernel)",
   "language": "python",
   "name": "python3"
  },
  "language_info": {
   "codemirror_mode": {
    "name": "ipython",
    "version": 3
   },
   "file_extension": ".py",
   "mimetype": "text/x-python",
   "name": "python",
   "nbconvert_exporter": "python",
   "pygments_lexer": "ipython3",
   "version": "3.11.9"
  }
 },
 "nbformat": 4,
 "nbformat_minor": 5
}
